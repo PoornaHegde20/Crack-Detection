{
  "cells": [
    {
      "cell_type": "code",
      "execution_count": null,
      "metadata": {
        "id": "LnJ0IksxEQOW"
      },
      "outputs": [],
      "source": [
        "import tensorflow as tf\n",
        "import cv2\n",
        "import pandas as pd\n",
        "import numpy as np\n",
        "import matplotlib.pyplot as plt\n",
        "import warnings\n",
        "warnings.filterwarnings('ignore')\n",
      ]
    },
    {
      "cell_type": "code",
      "source": [
        "from google.colab import drive\n",
        "drive.mount('/content/drive')"
      ],
      "metadata": {
        "colab": {
          "base_uri": "https://localhost:8080/"
        },
        "id": "Q35fFUpuEx35",
        "outputId": "aa01529a-b2b3-43e3-86d0-76b06387151f"
      },
      "execution_count": null,
      "outputs": [
        {
          "output_type": "stream",
          "name": "stdout",
          "text": [
            "Mounted at /content/drive\n"
          ]
        }
      ]
    },
    {
      "cell_type": "code",
      "execution_count": null,
      "metadata": {
        "id": "UVg-h6T6EQOY"
      },
      "outputs": [],
      "source": [
        "crackdensity_df = pd.DataFrame()\n",
        "crackdensity_df['Temperature'] = None\n",
        "crackdensity_df['Density'] = None\n",
        "\n",
        "cracklength_df = pd.DataFrame()\n",
        "cracklength_df['Temperature'] = None\n",
        "cracklength_df['Length'] = None"
      ]
    },
    {
      "cell_type": "code",
      "execution_count": null,
      "metadata": {
        "id": "Svmm8sp9EQOY"
      },
      "outputs": [],
      "source": [
        "def computeDensity(filename, df_crack, df_length):\n",
        "\n",
        "  #Segment each Image into smaller tiles\n",
        "\n",
        "  image = cv2.imread(filename)\n",
        "  img_rgb = cv2.cvtColor(image, cv2.COLOR_BGR2RGB)\n",
        "\n",
        "  area = img_rgb.shape[0]*img_rgb.shape[1]\n",
        "\n",
        "  m = 250\n",
        "  n = 250\n",
        "  tiles = [img_rgb[x:x+m,y:y+n] for x in range(0,img_rgb.shape[0],m) for y in range(0,img_rgb.shape[1],n)]\n",
        "\n",
        "  for i in range(len(tiles)):\n",
        "    seg_rgb = cv2.cvtColor(tiles[i], cv2.COLOR_BGR2RGB)\n",
        "    cv2.imwrite('segmented_{}.jpg'.format(i), seg_rgb)\n",
        "\n",
        "  sumLength = 0\n",
        "\n",
        "  #For each segmented image, calculate the total edge length\n",
        "  for i in range(86):\n",
        "\n",
        "      img = cv2.imread('segmented_{}.jpg'.format(i))\n",
        "\n",
        "      # Convert into gray scale\n",
        "      gray = cv2.cvtColor(img, cv2.COLOR_BGR2GRAY)\n",
        "\n",
        "      # Image processing ( smoothing )\n",
        "      # Averaging\n",
        "      # gray = cv.gray(gray,(3,3))\n",
        "\n",
        "      total_edge_length = 0\n",
        "\n",
        "      # Apply logarithmic transform\n",
        "      img_log = (np.log(gray+1)/(np.log(1+np.max(gray))))*255\n",
        "\n",
        "      # Specify the data type\n",
        "      img_log = np.array(img_log,dtype=np.uint8)\n",
        "\n",
        "      # Image smoothing: bilateral filter\n",
        "      bilateral = cv2.bilateralFilter(img_log, 5, 75, 75)\n",
        "\n",
        "      # Canny Edge Detection\n",
        "      edges = cv2.Canny(bilateral,100,200)\n",
        "\n",
        "      # Morphological Closing Operator\n",
        "      kernel = np.ones((5,5),np.uint8)\n",
        "      closing = cv2.morphologyEx(edges, cv2.MORPH_CLOSE, kernel)\n",
        "\n",
        "      # Create feature detecting method\n",
        "      # sift = cv.xfeatures2d.SIFT_create()\n",
        "      # surf = cv.xfeatures2d.SURF_create()\n",
        "      orb = cv2.ORB_create(nfeatures=1500)\n",
        "\n",
        "      # Make featured Image\n",
        "      keypoints, descriptors = orb.detectAndCompute(closing, None)\n",
        "      featuredImg = cv2.drawKeypoints(closing, keypoints, None)\n",
        "      featuredImg = cv2.bitwise_not(featuredImg)\n",
        "\n",
        "      cv2.imwrite('edge_{}.jpg'.format(i), featuredImg)\n",
        "\n",
        "      plt.subplot(121),plt.imshow(featuredImg)\n",
        "\n",
        "      contours, hierarchy = cv2.findContours(edges, cv2.RETR_EXTERNAL, cv2.CHAIN_APPROX_SIMPLE)\n",
        "\n",
        "      contour_img = np.zeros_like(img)\n",
        "\n",
        "      for contour in contours:\n",
        "          cv2.drawContours(contour_img, [contour], 0, (0, 0, 255), 2)\n",
        "\n",
        "      for c in range(len(contours)):\n",
        "          length = cv2.arcLength(contours[c], True)\n",
        "          total_edge_length+=length\n",
        "\n",
        "      sumLength += total_edge_length\n",
        "\n",
        "  # Calculate density for each image\n",
        "  density = sumLength/area\n",
        "\n",
        "\n",
        "  # Add values to a dataframe\n",
        "  temp = filename[0:3]\n",
        "  new_row = {'Temperature': temp, 'Density': density}\n",
        "  df_crack.loc[len(df_crack)] = new_row\n",
        "\n",
        "  new_row = {'Temperature': temp, 'Length': sumLength}\n",
        "  df_length.loc[len(df_length)] = new_row\n"
      ]
    },
    {
      "cell_type": "code",
      "execution_count": null,
      "metadata": {
        "colab": {
          "base_uri": "https://localhost:8080/",
          "height": 869
        },
        "id": "INtUoYY3EQOZ",
        "outputId": "8a3d7a52-7757-45d1-ab5b-a003b78ed80d"
      },
      "outputs": [
        {
          "output_type": "stream",
          "name": "stdout",
          "text": [
            "/content/drive/My Drive/ThinSectionImages_2/25/10X/PP/2.jpg\n",
            "/content/drive/My Drive/ThinSectionImages_2/25/10X/PP/3.jpg\n",
            "/content/drive/My Drive/ThinSectionImages_2/25/10X/PP/4.jpg\n",
            "/content/drive/My Drive/ThinSectionImages_2/25/10X/PP/5.jpg\n",
            "/content/drive/My Drive/ThinSectionImages_2/25/10X/PP/6.jpg\n",
            "/content/drive/My Drive/ThinSectionImages_2/25/10X/PP/7.jpg\n",
            "/content/drive/My Drive/ThinSectionImages_2/25/10X/PP/8.jpg\n",
            "/content/drive/My Drive/ThinSectionImages_2/25/10X/PP/9.jpg\n",
            "/content/drive/My Drive/ThinSectionImages_2/25/10X/PP/10.jpg\n",
            "/content/drive/My Drive/ThinSectionImages_2/25/10X/PP/11.jpg\n",
            "/content/drive/My Drive/ThinSectionImages_2/25/10X/PP/12.jpg\n",
            "/content/drive/My Drive/ThinSectionImages_2/25/10X/PP/13.jpg\n",
            "/content/drive/My Drive/ThinSectionImages_2/25/10X/PP/14.jpg\n",
            "/content/drive/My Drive/ThinSectionImages_2/25/10X/PP/15.jpg\n",
            "/content/drive/My Drive/ThinSectionImages_2/25/10X/PP/leicametadata\n"
          ]
        },
        {
          "output_type": "error",
          "ename": "error",
          "evalue": "ignored",
          "traceback": [
            "\u001b[0;31m---------------------------------------------------------------------------\u001b[0m",
            "\u001b[0;31merror\u001b[0m                                     Traceback (most recent call last)",
            "\u001b[0;32m<ipython-input-8-13db3e96503c>\u001b[0m in \u001b[0;36m<cell line: 15>\u001b[0;34m()\u001b[0m\n\u001b[1;32m     15\u001b[0m \u001b[0;32mfor\u001b[0m \u001b[0mx\u001b[0m \u001b[0;32min\u001b[0m \u001b[0mfolder_names\u001b[0m\u001b[0;34m:\u001b[0m\u001b[0;34m\u001b[0m\u001b[0;34m\u001b[0m\u001b[0m\n\u001b[1;32m     16\u001b[0m     \u001b[0mcount\u001b[0m \u001b[0;34m=\u001b[0m \u001b[0;36m1\u001b[0m\u001b[0;34m\u001b[0m\u001b[0;34m\u001b[0m\u001b[0m\n\u001b[0;32m---> 17\u001b[0;31m     \u001b[0mload_images_from_folder\u001b[0m\u001b[0;34m(\u001b[0m\u001b[0mx\u001b[0m\u001b[0;34m,\u001b[0m\u001b[0mcount\u001b[0m\u001b[0;34m)\u001b[0m\u001b[0;34m\u001b[0m\u001b[0;34m\u001b[0m\u001b[0m\n\u001b[0m",
            "\u001b[0;32m<ipython-input-8-13db3e96503c>\u001b[0m in \u001b[0;36mload_images_from_folder\u001b[0;34m(folder, c)\u001b[0m\n\u001b[1;32m     10\u001b[0m         \u001b[0mfname\u001b[0m \u001b[0;34m=\u001b[0m \u001b[0mos\u001b[0m\u001b[0;34m.\u001b[0m\u001b[0mpath\u001b[0m\u001b[0;34m.\u001b[0m\u001b[0mjoin\u001b[0m\u001b[0;34m(\u001b[0m\u001b[0mfolder\u001b[0m\u001b[0;34m,\u001b[0m\u001b[0mfilename\u001b[0m\u001b[0;34m)\u001b[0m\u001b[0;34m\u001b[0m\u001b[0;34m\u001b[0m\u001b[0m\n\u001b[1;32m     11\u001b[0m         \u001b[0mprint\u001b[0m\u001b[0;34m(\u001b[0m\u001b[0mfname\u001b[0m\u001b[0;34m)\u001b[0m\u001b[0;34m\u001b[0m\u001b[0;34m\u001b[0m\u001b[0m\n\u001b[0;32m---> 12\u001b[0;31m         \u001b[0mcomputeDensity\u001b[0m\u001b[0;34m(\u001b[0m\u001b[0mfname\u001b[0m\u001b[0;34m,\u001b[0m \u001b[0mcrackdensity_df\u001b[0m\u001b[0;34m,\u001b[0m \u001b[0mcracklength_df\u001b[0m\u001b[0;34m)\u001b[0m\u001b[0;34m\u001b[0m\u001b[0;34m\u001b[0m\u001b[0m\n\u001b[0m\u001b[1;32m     13\u001b[0m \u001b[0;34m\u001b[0m\u001b[0m\n\u001b[1;32m     14\u001b[0m \u001b[0mfolder_names\u001b[0m \u001b[0;34m=\u001b[0m \u001b[0;34m[\u001b[0m\u001b[0;34m'/content/drive/My Drive/ThinSectionImages_2/25/10X/PP'\u001b[0m\u001b[0;34m,\u001b[0m\u001b[0;34m'/content/drive/My Drive/Thin Section Images_2/100/10X/PP'\u001b[0m\u001b[0;34m,\u001b[0m\u001b[0;34m'/content/drive/My Drive/Thin Section Images_2/200/10X/PP'\u001b[0m\u001b[0;34m,\u001b[0m\u001b[0;34m'/content/drive/My Drive/Thin Section Images_2/300/10X/PP'\u001b[0m\u001b[0;34m,\u001b[0m\u001b[0;34m'/content/drive/My Drive/Thin Section Images_2/400/10X/PP'\u001b[0m\u001b[0;34m,\u001b[0m\u001b[0;34m'/content/drive/My Drive/Thin Section Images_2/500/10X/PP'\u001b[0m\u001b[0;34m]\u001b[0m\u001b[0;34m\u001b[0m\u001b[0;34m\u001b[0m\u001b[0m\n",
            "\u001b[0;32m<ipython-input-4-50ce5c67e826>\u001b[0m in \u001b[0;36mcomputeDensity\u001b[0;34m(filename, df_crack, df_length)\u001b[0m\n\u001b[1;32m      4\u001b[0m \u001b[0;34m\u001b[0m\u001b[0m\n\u001b[1;32m      5\u001b[0m   \u001b[0mimage\u001b[0m \u001b[0;34m=\u001b[0m \u001b[0mcv2\u001b[0m\u001b[0;34m.\u001b[0m\u001b[0mimread\u001b[0m\u001b[0;34m(\u001b[0m\u001b[0mfilename\u001b[0m\u001b[0;34m)\u001b[0m\u001b[0;34m\u001b[0m\u001b[0;34m\u001b[0m\u001b[0m\n\u001b[0;32m----> 6\u001b[0;31m   \u001b[0mimg_rgb\u001b[0m \u001b[0;34m=\u001b[0m \u001b[0mcv2\u001b[0m\u001b[0;34m.\u001b[0m\u001b[0mcvtColor\u001b[0m\u001b[0;34m(\u001b[0m\u001b[0mimage\u001b[0m\u001b[0;34m,\u001b[0m \u001b[0mcv2\u001b[0m\u001b[0;34m.\u001b[0m\u001b[0mCOLOR_BGR2RGB\u001b[0m\u001b[0;34m)\u001b[0m\u001b[0;34m\u001b[0m\u001b[0;34m\u001b[0m\u001b[0m\n\u001b[0m\u001b[1;32m      7\u001b[0m \u001b[0;34m\u001b[0m\u001b[0m\n\u001b[1;32m      8\u001b[0m   \u001b[0marea\u001b[0m \u001b[0;34m=\u001b[0m \u001b[0mimg_rgb\u001b[0m\u001b[0;34m.\u001b[0m\u001b[0mshape\u001b[0m\u001b[0;34m[\u001b[0m\u001b[0;36m0\u001b[0m\u001b[0;34m]\u001b[0m\u001b[0;34m*\u001b[0m\u001b[0mimg_rgb\u001b[0m\u001b[0;34m.\u001b[0m\u001b[0mshape\u001b[0m\u001b[0;34m[\u001b[0m\u001b[0;36m1\u001b[0m\u001b[0;34m]\u001b[0m\u001b[0;34m\u001b[0m\u001b[0;34m\u001b[0m\u001b[0m\n",
            "\u001b[0;31merror\u001b[0m: OpenCV(4.7.0) /io/opencv/modules/imgproc/src/color.cpp:182: error: (-215:Assertion failed) !_src.empty() in function 'cvtColor'\n"
          ]
        },
        {
          "output_type": "display_data",
          "data": {
            "text/plain": [
              "<Figure size 640x480 with 1 Axes>"
            ],
            "image/png": "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\n"
          },
          "metadata": {}
        }
      ],
      "source": [
        "import os\n",
        "\n",
        "\n",
        "def load_images_from_folder(folder, c):\n",
        "    for filename in os.listdir(folder):\n",
        "        if c == 1:\n",
        "            c+=1\n",
        "            continue\n",
        "\n",
        "        fname = os.path.join(folder,filename)\n",
        "        print(fname)\n",
        "        computeDensity(fname, crackdensity_df, cracklength_df)\n",
        "\n",
        "folder_names = ['/content/drive/My Drive/ThinSectionImages_2/25/10X/PP','/content/drive/My Drive/Thin Section Images_2/100/10X/PP','/content/drive/My Drive/Thin Section Images_2/200/10X/PP','/content/drive/My Drive/Thin Section Images_2/300/10X/PP','/content/drive/My Drive/Thin Section Images_2/400/10X/PP','/content/drive/My Drive/Thin Section Images_2/500/10X/PP']\n",
        "for x in folder_names:\n",
        "    count = 1\n",
        "    load_images_from_folder(x,count)\n"
      ]
    },
    {
      "cell_type": "code",
      "execution_count": null,
      "metadata": {
        "id": "2e5FUPmvEQOa"
      },
      "outputs": [],
      "source": [
        "crackdensity_avg_df = pd.DataFrame()\n",
        "crackdensity_avg_df['Temperature'] = None\n",
        "crackdensity_avg_df['Density'] = None\n",
        "\n",
        "\n",
        "crack_avg = crackdensity_df.loc[:14, 'Density'].sum()/15\n",
        "new_row = {'Temperature': ' 25', 'Density': crack_avg}\n",
        "crackdensity_avg_df.loc[len(crackdensity_avg_df)] = new_row\n",
        "\n",
        "crack_avg = crackdensity_df.loc[15:29, 'Density'].sum()/15\n",
        "new_row = {'Temperature': '100', 'Density': crack_avg}\n",
        "crackdensity_avg_df.loc[len(crackdensity_avg_df)] = new_row\n",
        "\n",
        "crack_avg = crackdensity_df.loc[30:44, 'Density'].sum()/15\n",
        "new_row = {'Temperature': '200', 'Density': crack_avg}\n",
        "crackdensity_avg_df.loc[len(crackdensity_avg_df)] = new_row\n",
        "\n",
        "crack_avg = crackdensity_df.loc[45:59, 'Density'].sum()/15\n",
        "new_row = {'Temperature': '300', 'Density': crack_avg}\n",
        "crackdensity_avg_df.loc[len(crackdensity_avg_df)] = new_row\n",
        "\n",
        "crack_avg = crackdensity_df.loc[60:74, 'Density'].sum()/15\n",
        "new_row = {'Temperature': '400', 'Density': crack_avg}\n",
        "crackdensity_avg_df.loc[len(crackdensity_avg_df)] = new_row\n",
        "\n",
        "crack_avg = crackdensity_df.loc[75:89, 'Density'].sum()/15\n",
        "new_row = {'Temperature': '500', 'Density': crack_avg}\n",
        "crackdensity_avg_df.loc[len(crackdensity_avg_df)] = new_row\n",
        "\n",
        "print(crackdensity_avg_df)"
      ]
    },
    {
      "cell_type": "code",
      "execution_count": null,
      "metadata": {
        "id": "AMdzptt8EQOa"
      },
      "outputs": [],
      "source": [
        "cracklength_avg_df = pd.DataFrame()\n",
        "cracklength_avg_df['Temperature'] = None\n",
        "cracklength_avg_df['Length'] = None\n",
        "\n",
        "\n",
        "crack_avg = cracklength_df.loc[:14, 'Length'].sum()/15\n",
        "new_row = {'Temperature': ' 25', 'Length': crack_avg}\n",
        "cracklength_avg_df.loc[len(cracklength_avg_df)] = new_row\n",
        "\n",
        "crack_avg = cracklength_df.loc[15:29, 'Length'].sum()/15\n",
        "new_row = {'Temperature': '100', 'Length': crack_avg}\n",
        "cracklength_avg_df.loc[len(cracklength_avg_df)] = new_row\n",
        "\n",
        "crack_avg = cracklength_df.loc[30:44, 'Length'].sum()/15\n",
        "new_row = {'Temperature': '200', 'Length': crack_avg}\n",
        "cracklength_avg_df.loc[len(cracklength_avg_df)] = new_row\n",
        "\n",
        "crack_avg = cracklength_df.loc[45:59, 'Length'].sum()/15\n",
        "new_row = {'Temperature': '300', 'Length': crack_avg}\n",
        "cracklength_avg_df.loc[len(cracklength_avg_df)] = new_row\n",
        "\n",
        "crack_avg = cracklength_df.loc[60:74, 'Length'].sum()/15\n",
        "new_row = {'Temperature': '400', 'Length': crack_avg}\n",
        "cracklength_avg_df.loc[len(cracklength_avg_df)] = new_row\n",
        "\n",
        "crack_avg = cracklength_df.loc[75:89, 'Length'].sum()/15\n",
        "new_row = {'Temperature': '500', 'Length': crack_avg}\n",
        "cracklength_avg_df.loc[len(cracklength_avg_df)] = new_row\n",
        "\n",
        "print(cracklength_avg_df)"
      ]
    },
    {
      "cell_type": "code",
      "execution_count": null,
      "metadata": {
        "id": "bXiXK770EQOb"
      },
      "outputs": [],
      "source": [
        "temperature = crackdensity_avg_df['Temperature']\n",
        "crack_density = crackdensity_avg_df['Density']\n",
        "\n",
        "# create scatter plot\n",
        "plt.scatter(temperature, crack_density)\n",
        "\n",
        "# add axis labels and title\n",
        "plt.xlabel('Temperature')\n",
        "plt.ylabel('Crack Density')\n",
        "plt.title('Temperature vs. Crack Density')\n",
        "\n",
        "# display plot\n",
        "plt.show()"
      ]
    },
    {
      "cell_type": "code",
      "execution_count": null,
      "metadata": {
        "id": "ZKe1kEbuEQOb"
      },
      "outputs": [],
      "source": [
        "temperature = cracklength_avg_df['Temperature']\n",
        "crack_density = cracklength_avg_df['Length']\n",
        "\n",
        "# create scatter plot\n",
        "plt.scatter(temperature, crack_density)\n",
        "\n",
        "# add axis labels and title\n",
        "plt.xlabel('Temperature')\n",
        "plt.ylabel('Length')\n",
        "plt.title('Temperature vs. Length')\n",
        "\n",
        "# display plot\n",
        "plt.show()"
      ]
    },
    {
      "cell_type": "code",
      "execution_count": null,
      "metadata": {
        "id": "0hFIdb9YEQOb"
      },
      "outputs": [],
      "source": [
        "from sklearn.linear_model import LinearRegression\n",
        "from sklearn.model_selection import train_test_split\n",
        "from sklearn.metrics import mean_squared_error, r2_score\n",
        "\n",
        "data = crackdensity_df\n",
        "shuffled_data = data.sample(frac=1, random_state=0)\n",
        "\n",
        "# reset index\n",
        "shuffled_data.reset_index(drop=True, inplace=True)\n",
        "\n",
        "print(shuffled_data)\n"
      ]
    },
    {
      "cell_type": "code",
      "execution_count": null,
      "metadata": {
        "id": "KL-GFXxvEQOb"
      },
      "outputs": [],
      "source": [
        "# split data into X and y variables\n",
        "X = shuffled_data.iloc[:, :-1].values  # temperature column\n",
        "y = shuffled_data.iloc[:, -1].values   # length column\n",
        "\n",
        "# split data into training and test sets\n",
        "X_train, X_test, y_train, y_test = train_test_split(X, y, test_size=0.2, random_state=42)\n",
        "\n",
        "# train a linear regression model\n",
        "regressor = LinearRegression()\n",
        "regressor.fit(X_train, y_train)\n",
        "\n",
        "# make predictions on the test set\n",
        "y_pred = regressor.predict(X_test)\n",
        "\n",
        "# evaluate the model\n",
        "mse = mean_squared_error(y_test, y_pred)\n",
        "r2 = r2_score(y_test, y_pred)\n",
        "print('Mean Squared Error:', mse)\n",
        "print('R² Score:', r2)\n",
        "\n",
        "# make predictions on new data\n",
        "new_temp = [[150],[420],[800],[1000]]  # new temperature values\n",
        "new_pred = regressor.predict(new_temp)\n",
        "print('Predicted Densities:', new_pred)"
      ]
    },
    {
      "cell_type": "code",
      "execution_count": null,
      "metadata": {
        "id": "PAYQB-tGEQOc"
      },
      "outputs": [],
      "source": [
        "from sklearn.linear_model import LinearRegression\n",
        "from sklearn.model_selection import train_test_split\n",
        "from sklearn.metrics import mean_squared_error, r2_score\n",
        "\n",
        "data = cracklength_df\n",
        "shuffled_data = data.sample(frac=1, random_state=0)\n",
        "\n",
        "# reset index\n",
        "shuffled_data.reset_index(drop=True, inplace=True)\n",
        "\n",
        "print(shuffled_data)\n"
      ]
    },
    {
      "cell_type": "code",
      "execution_count": null,
      "metadata": {
        "id": "l6FZ3C2fEQOd"
      },
      "outputs": [],
      "source": [
        "# split data into X and y variables\n",
        "X = shuffled_data.iloc[:, :-1].values  # temperature column\n",
        "y = shuffled_data.iloc[:, -1].values   # length column\n",
        "\n",
        "# split data into training and test sets\n",
        "X_train, X_test, y_train, y_test = train_test_split(X, y, test_size=0.2, random_state=42)\n",
        "\n",
        "# train a linear regression model\n",
        "regressor = LinearRegression()\n",
        "regressor.fit(X_train, y_train)\n",
        "\n",
        "# make predictions on the test set\n",
        "y_pred = regressor.predict(X_test)\n",
        "\n",
        "# evaluate the model\n",
        "mse = mean_squared_error(y_test, y_pred)\n",
        "r2 = r2_score(y_test, y_pred)\n",
        "print('Mean Squared Error:', mse)\n",
        "print('R² Score:', r2)\n",
        "\n",
        "# make predictions on new data\n",
        "new_temp = [[150],[420],[700],[1000]]  # new temperature values\n",
        "new_pred = regressor.predict(new_temp)\n",
        "print('Predicted Lengths:', new_pred)"
      ]
    }
  ],
  "metadata": {
    "kernelspec": {
      "display_name": "Python 3",
      "language": "python",
      "name": "python3"
    },
    "language_info": {
      "codemirror_mode": {
        "name": "ipython",
        "version": 3
      },
      "file_extension": ".py",
      "mimetype": "text/x-python",
      "name": "python",
      "nbconvert_exporter": "python",
      "pygments_lexer": "ipython3",
      "version": "3.9.7"
    },
    "orig_nbformat": 4,
    "colab": {
      "provenance": []
    }
  },
  "nbformat": 4,
  "nbformat_minor": 0
}
